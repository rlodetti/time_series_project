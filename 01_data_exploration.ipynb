{
 "cells": [
  {
   "cell_type": "markdown",
   "metadata": {},
   "source": [
    "my_project/\n",
    "├── README.md\n",
    "├── requirements.txt\n",
    "├── .gitignore\n",
    "├── data/\n",
    "│   ├── raw/\n",
    "│   ├── processed/\n",
    "├── notebooks/\n",
    "│   ├── 01_data_exploration.ipynb\n",
    "│   ├── 02_data_cleaning.ipynb\n",
    "│   ├── 03_feature_engineering.ipynb\n",
    "│   ├── 04_modeling.ipynb\n",
    "│   ├── 05_evaluation.ipynb\n",
    "├── scripts/\n",
    "│   ├── data_loading.py\n",
    "│   ├── data_preprocessing.py\n",
    "│   ├── feature_engineering.py\n",
    "│   ├── modeling.py\n",
    "├── models/\n",
    "├── output/\n",
    "│   ├── figures/\n",
    "│   ├── tables/\n",
    "│   ├── reports/"
   ]
  },
  {
   "cell_type": "code",
   "execution_count": 1,
   "metadata": {},
   "outputs": [],
   "source": [
    "import pandas as pd"
   ]
  },
  {
   "cell_type": "code",
   "execution_count": 10,
   "metadata": {
    "scrolled": true
   },
   "outputs": [
    {
     "data": {
      "text/html": [
       "<div>\n",
       "<style scoped>\n",
       "    .dataframe tbody tr th:only-of-type {\n",
       "        vertical-align: middle;\n",
       "    }\n",
       "\n",
       "    .dataframe tbody tr th {\n",
       "        vertical-align: top;\n",
       "    }\n",
       "\n",
       "    .dataframe thead th {\n",
       "        text-align: right;\n",
       "    }\n",
       "</style>\n",
       "<table border=\"1\" class=\"dataframe\">\n",
       "  <thead>\n",
       "    <tr style=\"text-align: right;\">\n",
       "      <th></th>\n",
       "      <th>RegionID</th>\n",
       "      <th>RegionName</th>\n",
       "      <th>City</th>\n",
       "      <th>State</th>\n",
       "      <th>Metro</th>\n",
       "      <th>CountyName</th>\n",
       "      <th>SizeRank</th>\n",
       "      <th>1996-04</th>\n",
       "      <th>1996-05</th>\n",
       "      <th>1996-06</th>\n",
       "      <th>...</th>\n",
       "      <th>2017-07</th>\n",
       "      <th>2017-08</th>\n",
       "      <th>2017-09</th>\n",
       "      <th>2017-10</th>\n",
       "      <th>2017-11</th>\n",
       "      <th>2017-12</th>\n",
       "      <th>2018-01</th>\n",
       "      <th>2018-02</th>\n",
       "      <th>2018-03</th>\n",
       "      <th>2018-04</th>\n",
       "    </tr>\n",
       "  </thead>\n",
       "  <tbody>\n",
       "    <tr>\n",
       "      <th>0</th>\n",
       "      <td>84654</td>\n",
       "      <td>60657</td>\n",
       "      <td>Chicago</td>\n",
       "      <td>IL</td>\n",
       "      <td>Chicago</td>\n",
       "      <td>Cook</td>\n",
       "      <td>1</td>\n",
       "      <td>334200.0</td>\n",
       "      <td>335400.0</td>\n",
       "      <td>336500.0</td>\n",
       "      <td>...</td>\n",
       "      <td>1005500</td>\n",
       "      <td>1007500</td>\n",
       "      <td>1007800</td>\n",
       "      <td>1009600</td>\n",
       "      <td>1013300</td>\n",
       "      <td>1018700</td>\n",
       "      <td>1024400</td>\n",
       "      <td>1030700</td>\n",
       "      <td>1033800</td>\n",
       "      <td>1030600</td>\n",
       "    </tr>\n",
       "    <tr>\n",
       "      <th>1</th>\n",
       "      <td>90668</td>\n",
       "      <td>75070</td>\n",
       "      <td>McKinney</td>\n",
       "      <td>TX</td>\n",
       "      <td>Dallas-Fort Worth</td>\n",
       "      <td>Collin</td>\n",
       "      <td>2</td>\n",
       "      <td>235700.0</td>\n",
       "      <td>236900.0</td>\n",
       "      <td>236700.0</td>\n",
       "      <td>...</td>\n",
       "      <td>308000</td>\n",
       "      <td>310000</td>\n",
       "      <td>312500</td>\n",
       "      <td>314100</td>\n",
       "      <td>315000</td>\n",
       "      <td>316600</td>\n",
       "      <td>318100</td>\n",
       "      <td>319600</td>\n",
       "      <td>321100</td>\n",
       "      <td>321800</td>\n",
       "    </tr>\n",
       "    <tr>\n",
       "      <th>2</th>\n",
       "      <td>91982</td>\n",
       "      <td>77494</td>\n",
       "      <td>Katy</td>\n",
       "      <td>TX</td>\n",
       "      <td>Houston</td>\n",
       "      <td>Harris</td>\n",
       "      <td>3</td>\n",
       "      <td>210400.0</td>\n",
       "      <td>212200.0</td>\n",
       "      <td>212200.0</td>\n",
       "      <td>...</td>\n",
       "      <td>321000</td>\n",
       "      <td>320600</td>\n",
       "      <td>320200</td>\n",
       "      <td>320400</td>\n",
       "      <td>320800</td>\n",
       "      <td>321200</td>\n",
       "      <td>321200</td>\n",
       "      <td>323000</td>\n",
       "      <td>326900</td>\n",
       "      <td>329900</td>\n",
       "    </tr>\n",
       "    <tr>\n",
       "      <th>3</th>\n",
       "      <td>84616</td>\n",
       "      <td>60614</td>\n",
       "      <td>Chicago</td>\n",
       "      <td>IL</td>\n",
       "      <td>Chicago</td>\n",
       "      <td>Cook</td>\n",
       "      <td>4</td>\n",
       "      <td>498100.0</td>\n",
       "      <td>500900.0</td>\n",
       "      <td>503100.0</td>\n",
       "      <td>...</td>\n",
       "      <td>1289800</td>\n",
       "      <td>1287700</td>\n",
       "      <td>1287400</td>\n",
       "      <td>1291500</td>\n",
       "      <td>1296600</td>\n",
       "      <td>1299000</td>\n",
       "      <td>1302700</td>\n",
       "      <td>1306400</td>\n",
       "      <td>1308500</td>\n",
       "      <td>1307000</td>\n",
       "    </tr>\n",
       "    <tr>\n",
       "      <th>4</th>\n",
       "      <td>93144</td>\n",
       "      <td>79936</td>\n",
       "      <td>El Paso</td>\n",
       "      <td>TX</td>\n",
       "      <td>El Paso</td>\n",
       "      <td>El Paso</td>\n",
       "      <td>5</td>\n",
       "      <td>77300.0</td>\n",
       "      <td>77300.0</td>\n",
       "      <td>77300.0</td>\n",
       "      <td>...</td>\n",
       "      <td>119100</td>\n",
       "      <td>119400</td>\n",
       "      <td>120000</td>\n",
       "      <td>120300</td>\n",
       "      <td>120300</td>\n",
       "      <td>120300</td>\n",
       "      <td>120300</td>\n",
       "      <td>120500</td>\n",
       "      <td>121000</td>\n",
       "      <td>121500</td>\n",
       "    </tr>\n",
       "  </tbody>\n",
       "</table>\n",
       "<p>5 rows × 272 columns</p>\n",
       "</div>"
      ],
      "text/plain": [
       "   RegionID  RegionName      City State              Metro CountyName  \\\n",
       "0     84654       60657   Chicago    IL            Chicago       Cook   \n",
       "1     90668       75070  McKinney    TX  Dallas-Fort Worth     Collin   \n",
       "2     91982       77494      Katy    TX            Houston     Harris   \n",
       "3     84616       60614   Chicago    IL            Chicago       Cook   \n",
       "4     93144       79936   El Paso    TX            El Paso    El Paso   \n",
       "\n",
       "   SizeRank   1996-04   1996-05   1996-06  ...  2017-07  2017-08  2017-09  \\\n",
       "0         1  334200.0  335400.0  336500.0  ...  1005500  1007500  1007800   \n",
       "1         2  235700.0  236900.0  236700.0  ...   308000   310000   312500   \n",
       "2         3  210400.0  212200.0  212200.0  ...   321000   320600   320200   \n",
       "3         4  498100.0  500900.0  503100.0  ...  1289800  1287700  1287400   \n",
       "4         5   77300.0   77300.0   77300.0  ...   119100   119400   120000   \n",
       "\n",
       "   2017-10  2017-11  2017-12  2018-01  2018-02  2018-03  2018-04  \n",
       "0  1009600  1013300  1018700  1024400  1030700  1033800  1030600  \n",
       "1   314100   315000   316600   318100   319600   321100   321800  \n",
       "2   320400   320800   321200   321200   323000   326900   329900  \n",
       "3  1291500  1296600  1299000  1302700  1306400  1308500  1307000  \n",
       "4   120300   120300   120300   120300   120500   121000   121500  \n",
       "\n",
       "[5 rows x 272 columns]"
      ]
     },
     "execution_count": 10,
     "metadata": {},
     "output_type": "execute_result"
    }
   ],
   "source": [
    "df = pd.read_csv('data/zillow_data.csv')\n",
    "df.head()"
   ]
  },
  {
   "cell_type": "code",
   "execution_count": 12,
   "metadata": {},
   "outputs": [
    {
     "data": {
      "text/html": [
       "<div>\n",
       "<style scoped>\n",
       "    .dataframe tbody tr th:only-of-type {\n",
       "        vertical-align: middle;\n",
       "    }\n",
       "\n",
       "    .dataframe tbody tr th {\n",
       "        vertical-align: top;\n",
       "    }\n",
       "\n",
       "    .dataframe thead th {\n",
       "        text-align: right;\n",
       "    }\n",
       "</style>\n",
       "<table border=\"1\" class=\"dataframe\">\n",
       "  <thead>\n",
       "    <tr style=\"text-align: right;\">\n",
       "      <th></th>\n",
       "      <th>RegionName</th>\n",
       "      <th>RegionID</th>\n",
       "      <th>SizeRank</th>\n",
       "      <th>City</th>\n",
       "      <th>State</th>\n",
       "      <th>Metro</th>\n",
       "      <th>CountyName</th>\n",
       "      <th>time</th>\n",
       "      <th>value</th>\n",
       "    </tr>\n",
       "  </thead>\n",
       "  <tbody>\n",
       "    <tr>\n",
       "      <th>0</th>\n",
       "      <td>60657</td>\n",
       "      <td>84654</td>\n",
       "      <td>1</td>\n",
       "      <td>Chicago</td>\n",
       "      <td>IL</td>\n",
       "      <td>Chicago</td>\n",
       "      <td>Cook</td>\n",
       "      <td>1996-04-01</td>\n",
       "      <td>334200.0</td>\n",
       "    </tr>\n",
       "    <tr>\n",
       "      <th>1</th>\n",
       "      <td>75070</td>\n",
       "      <td>90668</td>\n",
       "      <td>2</td>\n",
       "      <td>McKinney</td>\n",
       "      <td>TX</td>\n",
       "      <td>Dallas-Fort Worth</td>\n",
       "      <td>Collin</td>\n",
       "      <td>1996-04-01</td>\n",
       "      <td>235700.0</td>\n",
       "    </tr>\n",
       "    <tr>\n",
       "      <th>2</th>\n",
       "      <td>77494</td>\n",
       "      <td>91982</td>\n",
       "      <td>3</td>\n",
       "      <td>Katy</td>\n",
       "      <td>TX</td>\n",
       "      <td>Houston</td>\n",
       "      <td>Harris</td>\n",
       "      <td>1996-04-01</td>\n",
       "      <td>210400.0</td>\n",
       "    </tr>\n",
       "    <tr>\n",
       "      <th>3</th>\n",
       "      <td>60614</td>\n",
       "      <td>84616</td>\n",
       "      <td>4</td>\n",
       "      <td>Chicago</td>\n",
       "      <td>IL</td>\n",
       "      <td>Chicago</td>\n",
       "      <td>Cook</td>\n",
       "      <td>1996-04-01</td>\n",
       "      <td>498100.0</td>\n",
       "    </tr>\n",
       "    <tr>\n",
       "      <th>4</th>\n",
       "      <td>79936</td>\n",
       "      <td>93144</td>\n",
       "      <td>5</td>\n",
       "      <td>El Paso</td>\n",
       "      <td>TX</td>\n",
       "      <td>El Paso</td>\n",
       "      <td>El Paso</td>\n",
       "      <td>1996-04-01</td>\n",
       "      <td>77300.0</td>\n",
       "    </tr>\n",
       "  </tbody>\n",
       "</table>\n",
       "</div>"
      ],
      "text/plain": [
       "   RegionName  RegionID  SizeRank      City State              Metro  \\\n",
       "0       60657     84654         1   Chicago    IL            Chicago   \n",
       "1       75070     90668         2  McKinney    TX  Dallas-Fort Worth   \n",
       "2       77494     91982         3      Katy    TX            Houston   \n",
       "3       60614     84616         4   Chicago    IL            Chicago   \n",
       "4       79936     93144         5   El Paso    TX            El Paso   \n",
       "\n",
       "  CountyName       time     value  \n",
       "0       Cook 1996-04-01  334200.0  \n",
       "1     Collin 1996-04-01  235700.0  \n",
       "2     Harris 1996-04-01  210400.0  \n",
       "3       Cook 1996-04-01  498100.0  \n",
       "4    El Paso 1996-04-01   77300.0  "
      ]
     },
     "execution_count": 12,
     "metadata": {},
     "output_type": "execute_result"
    }
   ],
   "source": [
    "melted = pd.melt(df, \n",
    "                 id_vars=['RegionName', 'RegionID', 'SizeRank', 'City', 'State', \n",
    "                          'Metro', 'CountyName'], \n",
    "                 var_name='time')\n",
    "melted['time'] = pd.to_datetime(melted['time'], format=\"%Y-%m\")\n",
    "melted.head()\n",
    "\n"
   ]
  },
  {
   "cell_type": "code",
   "execution_count": 13,
   "metadata": {},
   "outputs": [
    {
     "name": "stdout",
     "output_type": "stream",
     "text": [
      "<class 'pandas.core.frame.DataFrame'>\n",
      "RangeIndex: 3901595 entries, 0 to 3901594\n",
      "Data columns (total 9 columns):\n",
      " #   Column      Dtype         \n",
      "---  ------      -----         \n",
      " 0   RegionName  int64         \n",
      " 1   RegionID    int64         \n",
      " 2   SizeRank    int64         \n",
      " 3   City        object        \n",
      " 4   State       object        \n",
      " 5   Metro       object        \n",
      " 6   CountyName  object        \n",
      " 7   time        datetime64[ns]\n",
      " 8   value       float64       \n",
      "dtypes: datetime64[ns](1), float64(1), int64(3), object(4)\n",
      "memory usage: 267.9+ MB\n"
     ]
    }
   ],
   "source": [
    "melted.info()"
   ]
  },
  {
   "cell_type": "code",
   "execution_count": 11,
   "metadata": {
    "jupyter": {
     "source_hidden": true
    }
   },
   "outputs": [
    {
     "data": {
      "text/plain": [
       "float64    219\n",
       "int64       49\n",
       "object       4\n",
       "Name: count, dtype: int64"
      ]
     },
     "execution_count": 11,
     "metadata": {},
     "output_type": "execute_result"
    }
   ],
   "source": [
    "df.dtypes.value_counts()"
   ]
  },
  {
   "cell_type": "code",
   "execution_count": 14,
   "metadata": {
    "collapsed": true,
    "jupyter": {
     "outputs_hidden": true,
     "source_hidden": true
    },
    "scrolled": true
   },
   "outputs": [
    {
     "name": "stdout",
     "output_type": "stream",
     "text": [
      "float64\n"
     ]
    },
    {
     "data": {
      "text/html": [
       "<div>\n",
       "<style scoped>\n",
       "    .dataframe tbody tr th:only-of-type {\n",
       "        vertical-align: middle;\n",
       "    }\n",
       "\n",
       "    .dataframe tbody tr th {\n",
       "        vertical-align: top;\n",
       "    }\n",
       "\n",
       "    .dataframe thead th {\n",
       "        text-align: right;\n",
       "    }\n",
       "</style>\n",
       "<table border=\"1\" class=\"dataframe\">\n",
       "  <thead>\n",
       "    <tr style=\"text-align: right;\">\n",
       "      <th></th>\n",
       "      <th>1996-04</th>\n",
       "      <th>1996-05</th>\n",
       "      <th>1996-06</th>\n",
       "      <th>1996-07</th>\n",
       "      <th>1996-08</th>\n",
       "      <th>1996-09</th>\n",
       "      <th>1996-10</th>\n",
       "      <th>1996-11</th>\n",
       "      <th>1996-12</th>\n",
       "      <th>1997-01</th>\n",
       "      <th>...</th>\n",
       "      <th>2013-09</th>\n",
       "      <th>2013-10</th>\n",
       "      <th>2013-11</th>\n",
       "      <th>2013-12</th>\n",
       "      <th>2014-01</th>\n",
       "      <th>2014-02</th>\n",
       "      <th>2014-03</th>\n",
       "      <th>2014-04</th>\n",
       "      <th>2014-05</th>\n",
       "      <th>2014-06</th>\n",
       "    </tr>\n",
       "  </thead>\n",
       "  <tbody>\n",
       "    <tr>\n",
       "      <th>0</th>\n",
       "      <td>334200.0</td>\n",
       "      <td>335400.0</td>\n",
       "      <td>336500.0</td>\n",
       "      <td>337600.0</td>\n",
       "      <td>338500.0</td>\n",
       "      <td>339500.0</td>\n",
       "      <td>340400.0</td>\n",
       "      <td>341300.0</td>\n",
       "      <td>342600.0</td>\n",
       "      <td>344400.0</td>\n",
       "      <td>...</td>\n",
       "      <td>856700.0</td>\n",
       "      <td>856600.0</td>\n",
       "      <td>854400.0</td>\n",
       "      <td>853000.0</td>\n",
       "      <td>856200.0</td>\n",
       "      <td>859700.0</td>\n",
       "      <td>863900.0</td>\n",
       "      <td>872900.0</td>\n",
       "      <td>883300.0</td>\n",
       "      <td>889500.0</td>\n",
       "    </tr>\n",
       "    <tr>\n",
       "      <th>1</th>\n",
       "      <td>235700.0</td>\n",
       "      <td>236900.0</td>\n",
       "      <td>236700.0</td>\n",
       "      <td>235400.0</td>\n",
       "      <td>233300.0</td>\n",
       "      <td>230600.0</td>\n",
       "      <td>227300.0</td>\n",
       "      <td>223400.0</td>\n",
       "      <td>219600.0</td>\n",
       "      <td>215800.0</td>\n",
       "      <td>...</td>\n",
       "      <td>223800.0</td>\n",
       "      <td>226500.0</td>\n",
       "      <td>228600.0</td>\n",
       "      <td>230400.0</td>\n",
       "      <td>231800.0</td>\n",
       "      <td>233000.0</td>\n",
       "      <td>234200.0</td>\n",
       "      <td>235400.0</td>\n",
       "      <td>236600.0</td>\n",
       "      <td>238500.0</td>\n",
       "    </tr>\n",
       "    <tr>\n",
       "      <th>2</th>\n",
       "      <td>210400.0</td>\n",
       "      <td>212200.0</td>\n",
       "      <td>212200.0</td>\n",
       "      <td>210700.0</td>\n",
       "      <td>208300.0</td>\n",
       "      <td>205500.0</td>\n",
       "      <td>202500.0</td>\n",
       "      <td>199800.0</td>\n",
       "      <td>198300.0</td>\n",
       "      <td>197300.0</td>\n",
       "      <td>...</td>\n",
       "      <td>269200.0</td>\n",
       "      <td>271000.0</td>\n",
       "      <td>273100.0</td>\n",
       "      <td>275600.0</td>\n",
       "      <td>277600.0</td>\n",
       "      <td>279800.0</td>\n",
       "      <td>282100.0</td>\n",
       "      <td>284200.0</td>\n",
       "      <td>286000.0</td>\n",
       "      <td>288300.0</td>\n",
       "    </tr>\n",
       "    <tr>\n",
       "      <th>3</th>\n",
       "      <td>498100.0</td>\n",
       "      <td>500900.0</td>\n",
       "      <td>503100.0</td>\n",
       "      <td>504600.0</td>\n",
       "      <td>505500.0</td>\n",
       "      <td>505700.0</td>\n",
       "      <td>505300.0</td>\n",
       "      <td>504200.0</td>\n",
       "      <td>503600.0</td>\n",
       "      <td>503400.0</td>\n",
       "      <td>...</td>\n",
       "      <td>1123700.0</td>\n",
       "      <td>1135100.0</td>\n",
       "      <td>1141000.0</td>\n",
       "      <td>1143900.0</td>\n",
       "      <td>1145800.0</td>\n",
       "      <td>1147500.0</td>\n",
       "      <td>1149900.0</td>\n",
       "      <td>1155200.0</td>\n",
       "      <td>1160100.0</td>\n",
       "      <td>1163300.0</td>\n",
       "    </tr>\n",
       "    <tr>\n",
       "      <th>4</th>\n",
       "      <td>77300.0</td>\n",
       "      <td>77300.0</td>\n",
       "      <td>77300.0</td>\n",
       "      <td>77300.0</td>\n",
       "      <td>77400.0</td>\n",
       "      <td>77500.0</td>\n",
       "      <td>77600.0</td>\n",
       "      <td>77700.0</td>\n",
       "      <td>77700.0</td>\n",
       "      <td>77800.0</td>\n",
       "      <td>...</td>\n",
       "      <td>112800.0</td>\n",
       "      <td>112500.0</td>\n",
       "      <td>112400.0</td>\n",
       "      <td>112000.0</td>\n",
       "      <td>111500.0</td>\n",
       "      <td>111400.0</td>\n",
       "      <td>112000.0</td>\n",
       "      <td>112500.0</td>\n",
       "      <td>112700.0</td>\n",
       "      <td>113100.0</td>\n",
       "    </tr>\n",
       "  </tbody>\n",
       "</table>\n",
       "<p>5 rows × 219 columns</p>\n",
       "</div>"
      ],
      "text/plain": [
       "    1996-04   1996-05   1996-06   1996-07   1996-08   1996-09   1996-10  \\\n",
       "0  334200.0  335400.0  336500.0  337600.0  338500.0  339500.0  340400.0   \n",
       "1  235700.0  236900.0  236700.0  235400.0  233300.0  230600.0  227300.0   \n",
       "2  210400.0  212200.0  212200.0  210700.0  208300.0  205500.0  202500.0   \n",
       "3  498100.0  500900.0  503100.0  504600.0  505500.0  505700.0  505300.0   \n",
       "4   77300.0   77300.0   77300.0   77300.0   77400.0   77500.0   77600.0   \n",
       "\n",
       "    1996-11   1996-12   1997-01  ...    2013-09    2013-10    2013-11  \\\n",
       "0  341300.0  342600.0  344400.0  ...   856700.0   856600.0   854400.0   \n",
       "1  223400.0  219600.0  215800.0  ...   223800.0   226500.0   228600.0   \n",
       "2  199800.0  198300.0  197300.0  ...   269200.0   271000.0   273100.0   \n",
       "3  504200.0  503600.0  503400.0  ...  1123700.0  1135100.0  1141000.0   \n",
       "4   77700.0   77700.0   77800.0  ...   112800.0   112500.0   112400.0   \n",
       "\n",
       "     2013-12    2014-01    2014-02    2014-03    2014-04    2014-05    2014-06  \n",
       "0   853000.0   856200.0   859700.0   863900.0   872900.0   883300.0   889500.0  \n",
       "1   230400.0   231800.0   233000.0   234200.0   235400.0   236600.0   238500.0  \n",
       "2   275600.0   277600.0   279800.0   282100.0   284200.0   286000.0   288300.0  \n",
       "3  1143900.0  1145800.0  1147500.0  1149900.0  1155200.0  1160100.0  1163300.0  \n",
       "4   112000.0   111500.0   111400.0   112000.0   112500.0   112700.0   113100.0  \n",
       "\n",
       "[5 rows x 219 columns]"
      ]
     },
     "metadata": {},
     "output_type": "display_data"
    },
    {
     "name": "stdout",
     "output_type": "stream",
     "text": [
      "\n",
      "int64\n"
     ]
    },
    {
     "data": {
      "text/html": [
       "<div>\n",
       "<style scoped>\n",
       "    .dataframe tbody tr th:only-of-type {\n",
       "        vertical-align: middle;\n",
       "    }\n",
       "\n",
       "    .dataframe tbody tr th {\n",
       "        vertical-align: top;\n",
       "    }\n",
       "\n",
       "    .dataframe thead th {\n",
       "        text-align: right;\n",
       "    }\n",
       "</style>\n",
       "<table border=\"1\" class=\"dataframe\">\n",
       "  <thead>\n",
       "    <tr style=\"text-align: right;\">\n",
       "      <th></th>\n",
       "      <th>RegionID</th>\n",
       "      <th>RegionName</th>\n",
       "      <th>SizeRank</th>\n",
       "      <th>2014-07</th>\n",
       "      <th>2014-08</th>\n",
       "      <th>2014-09</th>\n",
       "      <th>2014-10</th>\n",
       "      <th>2014-11</th>\n",
       "      <th>2014-12</th>\n",
       "      <th>2015-01</th>\n",
       "      <th>...</th>\n",
       "      <th>2017-07</th>\n",
       "      <th>2017-08</th>\n",
       "      <th>2017-09</th>\n",
       "      <th>2017-10</th>\n",
       "      <th>2017-11</th>\n",
       "      <th>2017-12</th>\n",
       "      <th>2018-01</th>\n",
       "      <th>2018-02</th>\n",
       "      <th>2018-03</th>\n",
       "      <th>2018-04</th>\n",
       "    </tr>\n",
       "  </thead>\n",
       "  <tbody>\n",
       "    <tr>\n",
       "      <th>0</th>\n",
       "      <td>84654</td>\n",
       "      <td>60657</td>\n",
       "      <td>1</td>\n",
       "      <td>892800</td>\n",
       "      <td>893600</td>\n",
       "      <td>891300</td>\n",
       "      <td>889900</td>\n",
       "      <td>891500</td>\n",
       "      <td>893000</td>\n",
       "      <td>893000</td>\n",
       "      <td>...</td>\n",
       "      <td>1005500</td>\n",
       "      <td>1007500</td>\n",
       "      <td>1007800</td>\n",
       "      <td>1009600</td>\n",
       "      <td>1013300</td>\n",
       "      <td>1018700</td>\n",
       "      <td>1024400</td>\n",
       "      <td>1030700</td>\n",
       "      <td>1033800</td>\n",
       "      <td>1030600</td>\n",
       "    </tr>\n",
       "    <tr>\n",
       "      <th>1</th>\n",
       "      <td>90668</td>\n",
       "      <td>75070</td>\n",
       "      <td>2</td>\n",
       "      <td>240500</td>\n",
       "      <td>242600</td>\n",
       "      <td>244700</td>\n",
       "      <td>246300</td>\n",
       "      <td>247600</td>\n",
       "      <td>249600</td>\n",
       "      <td>251400</td>\n",
       "      <td>...</td>\n",
       "      <td>308000</td>\n",
       "      <td>310000</td>\n",
       "      <td>312500</td>\n",
       "      <td>314100</td>\n",
       "      <td>315000</td>\n",
       "      <td>316600</td>\n",
       "      <td>318100</td>\n",
       "      <td>319600</td>\n",
       "      <td>321100</td>\n",
       "      <td>321800</td>\n",
       "    </tr>\n",
       "    <tr>\n",
       "      <th>2</th>\n",
       "      <td>91982</td>\n",
       "      <td>77494</td>\n",
       "      <td>3</td>\n",
       "      <td>290700</td>\n",
       "      <td>293300</td>\n",
       "      <td>295900</td>\n",
       "      <td>298300</td>\n",
       "      <td>300200</td>\n",
       "      <td>301300</td>\n",
       "      <td>301700</td>\n",
       "      <td>...</td>\n",
       "      <td>321000</td>\n",
       "      <td>320600</td>\n",
       "      <td>320200</td>\n",
       "      <td>320400</td>\n",
       "      <td>320800</td>\n",
       "      <td>321200</td>\n",
       "      <td>321200</td>\n",
       "      <td>323000</td>\n",
       "      <td>326900</td>\n",
       "      <td>329900</td>\n",
       "    </tr>\n",
       "    <tr>\n",
       "      <th>3</th>\n",
       "      <td>84616</td>\n",
       "      <td>60614</td>\n",
       "      <td>4</td>\n",
       "      <td>1167700</td>\n",
       "      <td>1173900</td>\n",
       "      <td>1175100</td>\n",
       "      <td>1173500</td>\n",
       "      <td>1175500</td>\n",
       "      <td>1178500</td>\n",
       "      <td>1176400</td>\n",
       "      <td>...</td>\n",
       "      <td>1289800</td>\n",
       "      <td>1287700</td>\n",
       "      <td>1287400</td>\n",
       "      <td>1291500</td>\n",
       "      <td>1296600</td>\n",
       "      <td>1299000</td>\n",
       "      <td>1302700</td>\n",
       "      <td>1306400</td>\n",
       "      <td>1308500</td>\n",
       "      <td>1307000</td>\n",
       "    </tr>\n",
       "    <tr>\n",
       "      <th>4</th>\n",
       "      <td>93144</td>\n",
       "      <td>79936</td>\n",
       "      <td>5</td>\n",
       "      <td>113900</td>\n",
       "      <td>114400</td>\n",
       "      <td>114500</td>\n",
       "      <td>114400</td>\n",
       "      <td>114300</td>\n",
       "      <td>114400</td>\n",
       "      <td>114700</td>\n",
       "      <td>...</td>\n",
       "      <td>119100</td>\n",
       "      <td>119400</td>\n",
       "      <td>120000</td>\n",
       "      <td>120300</td>\n",
       "      <td>120300</td>\n",
       "      <td>120300</td>\n",
       "      <td>120300</td>\n",
       "      <td>120500</td>\n",
       "      <td>121000</td>\n",
       "      <td>121500</td>\n",
       "    </tr>\n",
       "  </tbody>\n",
       "</table>\n",
       "<p>5 rows × 49 columns</p>\n",
       "</div>"
      ],
      "text/plain": [
       "   RegionID  RegionName  SizeRank  2014-07  2014-08  2014-09  2014-10  \\\n",
       "0     84654       60657         1   892800   893600   891300   889900   \n",
       "1     90668       75070         2   240500   242600   244700   246300   \n",
       "2     91982       77494         3   290700   293300   295900   298300   \n",
       "3     84616       60614         4  1167700  1173900  1175100  1173500   \n",
       "4     93144       79936         5   113900   114400   114500   114400   \n",
       "\n",
       "   2014-11  2014-12  2015-01  ...  2017-07  2017-08  2017-09  2017-10  \\\n",
       "0   891500   893000   893000  ...  1005500  1007500  1007800  1009600   \n",
       "1   247600   249600   251400  ...   308000   310000   312500   314100   \n",
       "2   300200   301300   301700  ...   321000   320600   320200   320400   \n",
       "3  1175500  1178500  1176400  ...  1289800  1287700  1287400  1291500   \n",
       "4   114300   114400   114700  ...   119100   119400   120000   120300   \n",
       "\n",
       "   2017-11  2017-12  2018-01  2018-02  2018-03  2018-04  \n",
       "0  1013300  1018700  1024400  1030700  1033800  1030600  \n",
       "1   315000   316600   318100   319600   321100   321800  \n",
       "2   320800   321200   321200   323000   326900   329900  \n",
       "3  1296600  1299000  1302700  1306400  1308500  1307000  \n",
       "4   120300   120300   120300   120500   121000   121500  \n",
       "\n",
       "[5 rows x 49 columns]"
      ]
     },
     "metadata": {},
     "output_type": "display_data"
    },
    {
     "name": "stdout",
     "output_type": "stream",
     "text": [
      "\n",
      "object\n"
     ]
    },
    {
     "data": {
      "text/html": [
       "<div>\n",
       "<style scoped>\n",
       "    .dataframe tbody tr th:only-of-type {\n",
       "        vertical-align: middle;\n",
       "    }\n",
       "\n",
       "    .dataframe tbody tr th {\n",
       "        vertical-align: top;\n",
       "    }\n",
       "\n",
       "    .dataframe thead th {\n",
       "        text-align: right;\n",
       "    }\n",
       "</style>\n",
       "<table border=\"1\" class=\"dataframe\">\n",
       "  <thead>\n",
       "    <tr style=\"text-align: right;\">\n",
       "      <th></th>\n",
       "      <th>City</th>\n",
       "      <th>State</th>\n",
       "      <th>Metro</th>\n",
       "      <th>CountyName</th>\n",
       "    </tr>\n",
       "  </thead>\n",
       "  <tbody>\n",
       "    <tr>\n",
       "      <th>0</th>\n",
       "      <td>Chicago</td>\n",
       "      <td>IL</td>\n",
       "      <td>Chicago</td>\n",
       "      <td>Cook</td>\n",
       "    </tr>\n",
       "    <tr>\n",
       "      <th>1</th>\n",
       "      <td>McKinney</td>\n",
       "      <td>TX</td>\n",
       "      <td>Dallas-Fort Worth</td>\n",
       "      <td>Collin</td>\n",
       "    </tr>\n",
       "    <tr>\n",
       "      <th>2</th>\n",
       "      <td>Katy</td>\n",
       "      <td>TX</td>\n",
       "      <td>Houston</td>\n",
       "      <td>Harris</td>\n",
       "    </tr>\n",
       "    <tr>\n",
       "      <th>3</th>\n",
       "      <td>Chicago</td>\n",
       "      <td>IL</td>\n",
       "      <td>Chicago</td>\n",
       "      <td>Cook</td>\n",
       "    </tr>\n",
       "    <tr>\n",
       "      <th>4</th>\n",
       "      <td>El Paso</td>\n",
       "      <td>TX</td>\n",
       "      <td>El Paso</td>\n",
       "      <td>El Paso</td>\n",
       "    </tr>\n",
       "  </tbody>\n",
       "</table>\n",
       "</div>"
      ],
      "text/plain": [
       "       City State              Metro CountyName\n",
       "0   Chicago    IL            Chicago       Cook\n",
       "1  McKinney    TX  Dallas-Fort Worth     Collin\n",
       "2      Katy    TX            Houston     Harris\n",
       "3   Chicago    IL            Chicago       Cook\n",
       "4   El Paso    TX            El Paso    El Paso"
      ]
     },
     "metadata": {},
     "output_type": "display_data"
    },
    {
     "name": "stdout",
     "output_type": "stream",
     "text": [
      "\n"
     ]
    }
   ],
   "source": [
    "for dtype in ['float64', 'int64', 'object']:\n",
    "    print(dtype)\n",
    "    display(df.select_dtypes(include=dtype).head())\n",
    "    print('')"
   ]
  },
  {
   "cell_type": "markdown",
   "metadata": {},
   "source": [
    "The first 7 columns provide the info and should be either object or integer dtypes. After that we can convert the rest to datetime. "
   ]
  },
  {
   "cell_type": "markdown",
   "metadata": {},
   "source": [
    "# Step 2: Data Preprocessing"
   ]
  },
  {
   "cell_type": "code",
   "execution_count": 3,
   "metadata": {},
   "outputs": [],
   "source": [
    "dates = pd.to_datetime(df.columns.values[7:],format='%Y-%m')"
   ]
  },
  {
   "cell_type": "code",
   "execution_count": 44,
   "metadata": {},
   "outputs": [
    {
     "data": {
      "text/plain": [
       "DatetimeIndex(['1996-04-01', '1996-05-01', '1996-06-01', '1996-07-01',\n",
       "               '1996-08-01', '1996-09-01', '1996-10-01', '1996-11-01',\n",
       "               '1996-12-01', '1997-01-01',\n",
       "               ...\n",
       "               '2017-07-01', '2017-08-01', '2017-09-01', '2017-10-01',\n",
       "               '2017-11-01', '2017-12-01', '2018-01-01', '2018-02-01',\n",
       "               '2018-03-01', '2018-04-01'],\n",
       "              dtype='datetime64[ns]', length=265, freq=None)"
      ]
     },
     "execution_count": 44,
     "metadata": {},
     "output_type": "execute_result"
    }
   ],
   "source": [
    "dates"
   ]
  },
  {
   "cell_type": "code",
   "execution_count": 43,
   "metadata": {
    "collapsed": true,
    "jupyter": {
     "outputs_hidden": true
    }
   },
   "outputs": [
    {
     "data": {
      "text/plain": [
       "(array([27., 26., 27., 26., 27., 26., 26., 27., 26., 27.]),\n",
       " array([ 9587. , 10390.5, 11194. , 11997.5, 12801. , 13604.5, 14408. ,\n",
       "        15211.5, 16015. , 16818.5, 17622. ]),\n",
       " <BarContainer object of 10 artists>)"
      ]
     },
     "execution_count": 43,
     "metadata": {},
     "output_type": "execute_result"
    },
    {
     "data": {
      "image/png": "[encoded data removed]",
      "text/plain": [
       "<Figure size 640x480 with 1 Axes>"
      ]
     },
     "metadata": {},
     "output_type": "display_data"
    }
   ],
   "source": [
    "import matplotlib.pyplot as plt\n",
    "\n",
    "plt.hist(dates)"
   ]
  },
  {
   "cell_type": "markdown",
   "metadata": {},
   "source": [
    "# Step 3: EDA and Visualization"
   ]
  },
  {
   "cell_type": "code",
   "execution_count": null,
   "metadata": {},
   "outputs": [],
   "source": [
    "font = {'family' : 'normal',\n",
    "        'weight' : 'bold',\n",
    "        'size'   : 22}\n",
    "\n",
    "matplotlib.rc('font', **font)\n",
    "\n",
    "# NOTE: if you visualizations are too cluttered to read, try calling 'plt.gcf().autofmt_xdate()'!"
   ]
  },
  {
   "cell_type": "code",
   "execution_count": 52,
   "metadata": {
    "collapsed": true,
    "jupyter": {
     "outputs_hidden": true
    }
   },
   "outputs": [
    {
     "data": {
      "text/plain": [
       "City\n",
       "New York          114\n",
       "Los Angeles        95\n",
       "Houston            88\n",
       "San Antonio        48\n",
       "Washington         45\n",
       "                 ... \n",
       "Carp Lake           1\n",
       "Haskins             1\n",
       "Tahoe Vista         1\n",
       "Collettsville       1\n",
       "Scaly Mountain      1\n",
       "Name: count, Length: 7554, dtype: int64"
      ]
     },
     "metadata": {},
     "output_type": "display_data"
    },
    {
     "name": "stdout",
     "output_type": "stream",
     "text": [
      "----------------------------------------\n"
     ]
    },
    {
     "data": {
      "text/plain": [
       "State\n",
       "CA    1224\n",
       "NY    1015\n",
       "TX     989\n",
       "PA     831\n",
       "FL     785\n",
       "OH     588\n",
       "IL     547\n",
       "NJ     502\n",
       "MI     499\n",
       "IN     428\n",
       "NC     428\n",
       "MA     417\n",
       "TN     404\n",
       "VA     401\n",
       "MN     375\n",
       "GA     345\n",
       "WA     341\n",
       "WI     332\n",
       "MO     319\n",
       "MD     317\n",
       "CO     249\n",
       "KS     241\n",
       "AZ     230\n",
       "OR     224\n",
       "OK     221\n",
       "SC     206\n",
       "NH     199\n",
       "LA     193\n",
       "AL     183\n",
       "IA     158\n",
       "MS     153\n",
       "KY     139\n",
       "CT     124\n",
       "UT     121\n",
       "ID     110\n",
       "AR     105\n",
       "NV     103\n",
       "ME      86\n",
       "NE      83\n",
       "WV      72\n",
       "MT      71\n",
       "HI      62\n",
       "NM      60\n",
       "RI      59\n",
       "DE      41\n",
       "WY      31\n",
       "ND      31\n",
       "AK      28\n",
       "SD      19\n",
       "DC      18\n",
       "VT      16\n",
       "Name: count, dtype: int64"
      ]
     },
     "metadata": {},
     "output_type": "display_data"
    },
    {
     "name": "stdout",
     "output_type": "stream",
     "text": [
      "----------------------------------------\n"
     ]
    },
    {
     "data": {
      "text/plain": [
       "Metro\n",
       "New York                          779\n",
       "Los Angeles-Long Beach-Anaheim    347\n",
       "Chicago                           325\n",
       "Philadelphia                      281\n",
       "Washington                        249\n",
       "                                 ... \n",
       "Liberal                             1\n",
       "Uvalde                              1\n",
       "Sweetwater                          1\n",
       "Los Alamos                          1\n",
       "New Ulm                             1\n",
       "Name: count, Length: 701, dtype: int64"
      ]
     },
     "metadata": {},
     "output_type": "display_data"
    },
    {
     "name": "stdout",
     "output_type": "stream",
     "text": [
      "----------------------------------------\n"
     ]
    },
    {
     "data": {
      "text/plain": [
       "CountyName\n",
       "Los Angeles    264\n",
       "Jefferson      175\n",
       "Orange         166\n",
       "Washington     164\n",
       "Montgomery     159\n",
       "              ... \n",
       "Schuyler         1\n",
       "Kimball          1\n",
       "Kinney           1\n",
       "Carson           1\n",
       "Ellsworth        1\n",
       "Name: count, Length: 1212, dtype: int64"
      ]
     },
     "metadata": {},
     "output_type": "display_data"
    },
    {
     "name": "stdout",
     "output_type": "stream",
     "text": [
      "----------------------------------------\n"
     ]
    }
   ],
   "source": [
    "for column in ['City','State', 'Metro', 'CountyName']:\n",
    "    display(df[column].value_counts())\n",
    "    print('----------------------------------------')"
   ]
  },
  {
   "cell_type": "code",
   "execution_count": 49,
   "metadata": {
    "collapsed": true,
    "jupyter": {
     "outputs_hidden": true
    },
    "scrolled": true
   },
   "outputs": [
    {
     "data": {
      "text/plain": [
       "City\n",
       "New York          114\n",
       "Los Angeles        95\n",
       "Houston            88\n",
       "San Antonio        48\n",
       "Washington         45\n",
       "                 ... \n",
       "Carp Lake           1\n",
       "Haskins             1\n",
       "Tahoe Vista         1\n",
       "Collettsville       1\n",
       "Scaly Mountain      1\n",
       "Name: count, Length: 7554, dtype: int64"
      ]
     },
     "execution_count": 49,
     "metadata": {},
     "output_type": "execute_result"
    }
   ],
   "source": [
    "df['City'].value_counts()"
   ]
  },
  {
   "cell_type": "code",
   "execution_count": 57,
   "metadata": {
    "collapsed": true,
    "jupyter": {
     "outputs_hidden": true
    },
    "scrolled": true
   },
   "outputs": [
    {
     "data": {
      "text/plain": [
       "CountyName\n",
       "Cook       140\n",
       "Lake        39\n",
       "Du Page     34\n",
       "Will        26\n",
       "Kane        22\n",
       "McHenry     18\n",
       "DeKalb      10\n",
       "Kenosha     10\n",
       "Porter       6\n",
       "Kendall      6\n",
       "Grundy       6\n",
       "Jasper       4\n",
       "Newton       4\n",
       "Name: count, dtype: int64"
      ]
     },
     "execution_count": 57,
     "metadata": {},
     "output_type": "execute_result"
    }
   ],
   "source": [
    "df.loc[df['Metro']=='Chicago']['CountyName'].value_counts()"
   ]
  },
  {
   "cell_type": "markdown",
   "metadata": {},
   "source": [
    "# Step 4: Reshape from Wide to Long Format"
   ]
  },
  {
   "cell_type": "code",
   "execution_count": 5,
   "metadata": {},
   "outputs": [],
   "source": [
    "def melt_data(df):\n",
    "    \"\"\"\n",
    "    Takes the zillow_data dataset in wide form or a subset of the zillow_dataset.  \n",
    "    Returns a long-form datetime dataframe \n",
    "    with the datetime column names as the index and the values as the 'values' column.\n",
    "    \n",
    "    If more than one row is passes in the wide-form dataset, the values column\n",
    "    will be the mean of the values from the datetime columns in all of the rows.\n",
    "    \"\"\"\n",
    "    \n",
    "    melted = pd.melt(df, id_vars=['RegionName', 'RegionID', 'SizeRank', 'City', 'State', 'Metro', 'CountyName'], var_name='time')\n",
    "    melted['time'] = pd.to_datetime(melted['time'], infer_datetime_format=True)\n",
    "    melted = melted.dropna(subset=['value'])\n",
    "    return melted.groupby('time').aggregate({'value':'mean'})"
   ]
  },
  {
   "cell_type": "code",
   "execution_count": 9,
   "metadata": {
    "collapsed": true,
    "jupyter": {
     "outputs_hidden": true
    }
   },
   "outputs": [
    {
     "name": "stderr",
     "output_type": "stream",
     "text": [
      "/var/folders/tr/nsz262r16ds7x1bjc8q7xq180000gn/T/ipykernel_8191/1276467365.py:12: UserWarning: The argument 'infer_datetime_format' is deprecated and will be removed in a future version. A strict version of it is now the default, see https://pandas.pydata.org/pdeps/0004-consistent-to-datetime-parsing.html. You can safely remove this argument.\n",
      "  melted['time'] = pd.to_datetime(melted['time'], infer_datetime_format=True)\n"
     ]
    },
    {
     "data": {
      "text/html": [
       "<div>\n",
       "<style scoped>\n",
       "    .dataframe tbody tr th:only-of-type {\n",
       "        vertical-align: middle;\n",
       "    }\n",
       "\n",
       "    .dataframe tbody tr th {\n",
       "        vertical-align: top;\n",
       "    }\n",
       "\n",
       "    .dataframe thead th {\n",
       "        text-align: right;\n",
       "    }\n",
       "</style>\n",
       "<table border=\"1\" class=\"dataframe\">\n",
       "  <thead>\n",
       "    <tr style=\"text-align: right;\">\n",
       "      <th></th>\n",
       "      <th>value</th>\n",
       "    </tr>\n",
       "    <tr>\n",
       "      <th>time</th>\n",
       "      <th></th>\n",
       "    </tr>\n",
       "  </thead>\n",
       "  <tbody>\n",
       "    <tr>\n",
       "      <th>1996-04-01</th>\n",
       "      <td>118299.123063</td>\n",
       "    </tr>\n",
       "    <tr>\n",
       "      <th>1996-05-01</th>\n",
       "      <td>118419.044139</td>\n",
       "    </tr>\n",
       "    <tr>\n",
       "      <th>1996-06-01</th>\n",
       "      <td>118537.423268</td>\n",
       "    </tr>\n",
       "    <tr>\n",
       "      <th>1996-07-01</th>\n",
       "      <td>118653.069278</td>\n",
       "    </tr>\n",
       "    <tr>\n",
       "      <th>1996-08-01</th>\n",
       "      <td>118780.254312</td>\n",
       "    </tr>\n",
       "  </tbody>\n",
       "</table>\n",
       "</div>"
      ],
      "text/plain": [
       "                    value\n",
       "time                     \n",
       "1996-04-01  118299.123063\n",
       "1996-05-01  118419.044139\n",
       "1996-06-01  118537.423268\n",
       "1996-07-01  118653.069278\n",
       "1996-08-01  118780.254312"
      ]
     },
     "execution_count": 9,
     "metadata": {},
     "output_type": "execute_result"
    }
   ],
   "source": [
    "df_melt = melt_data(df)\n",
    "df_melt.head()"
   ]
  },
  {
   "cell_type": "code",
   "execution_count": 7,
   "metadata": {
    "collapsed": true,
    "jupyter": {
     "outputs_hidden": true
    }
   },
   "outputs": [
    {
     "data": {
      "text/html": [
       "<div>\n",
       "<style scoped>\n",
       "    .dataframe tbody tr th:only-of-type {\n",
       "        vertical-align: middle;\n",
       "    }\n",
       "\n",
       "    .dataframe tbody tr th {\n",
       "        vertical-align: top;\n",
       "    }\n",
       "\n",
       "    .dataframe thead th {\n",
       "        text-align: right;\n",
       "    }\n",
       "</style>\n",
       "<table border=\"1\" class=\"dataframe\">\n",
       "  <thead>\n",
       "    <tr style=\"text-align: right;\">\n",
       "      <th></th>\n",
       "      <th>value</th>\n",
       "    </tr>\n",
       "    <tr>\n",
       "      <th>time</th>\n",
       "      <th></th>\n",
       "    </tr>\n",
       "  </thead>\n",
       "  <tbody>\n",
       "    <tr>\n",
       "      <th>1996-04-01</th>\n",
       "      <td>118299.123063</td>\n",
       "    </tr>\n",
       "    <tr>\n",
       "      <th>1996-05-01</th>\n",
       "      <td>118419.044139</td>\n",
       "    </tr>\n",
       "    <tr>\n",
       "      <th>1996-06-01</th>\n",
       "      <td>118537.423268</td>\n",
       "    </tr>\n",
       "    <tr>\n",
       "      <th>1996-07-01</th>\n",
       "      <td>118653.069278</td>\n",
       "    </tr>\n",
       "    <tr>\n",
       "      <th>1996-08-01</th>\n",
       "      <td>118780.254312</td>\n",
       "    </tr>\n",
       "  </tbody>\n",
       "</table>\n",
       "</div>"
      ],
      "text/plain": [
       "                    value\n",
       "time                     \n",
       "1996-04-01  118299.123063\n",
       "1996-05-01  118419.044139\n",
       "1996-06-01  118537.423268\n",
       "1996-07-01  118653.069278\n",
       "1996-08-01  118780.254312"
      ]
     },
     "execution_count": 7,
     "metadata": {},
     "output_type": "execute_result"
    }
   ],
   "source": [
    "df.head()"
   ]
  },
  {
   "cell_type": "code",
   "execution_count": null,
   "metadata": {},
   "outputs": [],
   "source": []
  },
  {
   "cell_type": "markdown",
   "metadata": {},
   "source": [
    "# Step 5: ARIMA Modeling"
   ]
  },
  {
   "cell_type": "code",
   "execution_count": null,
   "metadata": {},
   "outputs": [],
   "source": []
  },
  {
   "cell_type": "code",
   "execution_count": null,
   "metadata": {},
   "outputs": [],
   "source": []
  },
  {
   "cell_type": "code",
   "execution_count": null,
   "metadata": {},
   "outputs": [],
   "source": []
  },
  {
   "cell_type": "code",
   "execution_count": null,
   "metadata": {},
   "outputs": [],
   "source": []
  },
  {
   "cell_type": "code",
   "execution_count": null,
   "metadata": {},
   "outputs": [],
   "source": []
  },
  {
   "cell_type": "code",
   "execution_count": null,
   "metadata": {},
   "outputs": [],
   "source": []
  },
  {
   "cell_type": "markdown",
   "metadata": {},
   "source": [
    "# Step 6: Interpreting Results"
   ]
  },
  {
   "cell_type": "code",
   "execution_count": null,
   "metadata": {},
   "outputs": [],
   "source": []
  },
  {
   "cell_type": "code",
   "execution_count": null,
   "metadata": {},
   "outputs": [],
   "source": []
  },
  {
   "cell_type": "code",
   "execution_count": null,
   "metadata": {},
   "outputs": [],
   "source": []
  }
 ],
 "metadata": {
  "kernelspec": {
   "display_name": "Python 3 (ipykernel)",
   "language": "python",
   "name": "python3"
  },
  "language_info": {
   "codemirror_mode": {
    "name": "ipython",
    "version": 3
   },
   "file_extension": ".py",
   "mimetype": "text/x-python",
   "name": "python",
   "nbconvert_exporter": "python",
   "pygments_lexer": "ipython3",
   "version": "3.12.2"
  }
 },
 "nbformat": 4,
 "nbformat_minor": 4
}
